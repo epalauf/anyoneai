{
  "cells": [
    {
      "cell_type": "markdown",
      "metadata": {
        "id": "view-in-github",
        "colab_type": "text"
      },
      "source": [
        "<a href=\"https://colab.research.google.com/github/epalauf/anyoneai/blob/main/customers_and_orders/customers_and_orders.ipynb\" target=\"_parent\"><img src=\"https://colab.research.google.com/assets/colab-badge.svg\" alt=\"Open In Colab\"/></a>"
      ]
    },
    {
      "cell_type": "markdown",
      "metadata": {
        "id": "piiX_CRNFYUi"
      },
      "source": [
        "# Technical Challenge ! Custiomers and Orders - The lifeblood of any business!\n",
        "\n",
        "This notebook depends on two data files: customers.scv and orders.csv. These files are hosted in the cloud (or Github), so for simplicity, we are providing you with the code to download and save the two files in a folder called 'sample_data' which lives within this notebook session (not on your local computer nor Google Drive).\n",
        "\n",
        "![sample_data folder in notebook session](https://raw.githubusercontent.com/anyoneai/notebooks/main/customers_and_orders/images/sample_data_folder.png)\n",
        "\n",
        "Please execute the first code snippet before moving to the rest of the exercise as this code will import the data from the files for you to be able to execute the rest of the exercise.\n",
        "\n",
        "Remember as we said in the previous lecture, you have to save this notebook into your Google Drive by going to menu File/Save a Copy In Drive, or clicking in the button \"Copy to Drive\". This way, you will not lose any work you've done and the file will persist with your latest changes in your Google Drive. Also we recommend you to rename your .ipynb in your Google Drive, so you can easily find it in the future."
      ]
    },
    {
      "cell_type": "code",
      "execution_count": 24,
      "metadata": {
        "colab": {
          "base_uri": "https://localhost:8080/"
        },
        "id": "MWpVO242FQHC",
        "outputId": "a4c3c212-725f-4418-e6de-d43f01fedeef"
      },
      "outputs": [
        {
          "output_type": "stream",
          "name": "stdout",
          "text": [
            "Customers and orders CSV files have been added './sample_data'\n"
          ]
        }
      ],
      "source": [
        "import requests\n",
        "\n",
        "def import_data_files():\n",
        "  r = requests.get('https://raw.githubusercontent.com/anyoneai/notebooks/main/customers_and_orders/data/customers.csv')\n",
        "  with open('./sample_data/customers.csv', 'wb') as f:\n",
        "    f.write(r.content)\n",
        "\n",
        "  r = requests.get('https://raw.githubusercontent.com/anyoneai/notebooks/main/customers_and_orders/data/orders.csv')\n",
        "  with open('./sample_data/orders.csv', 'wb') as f:\n",
        "    f.write(r.content)\n",
        "\n",
        "import_data_files()\n",
        "print(\"Customers and orders CSV files have been added './sample_data'\")"
      ]
    },
    {
      "cell_type": "markdown",
      "metadata": {
        "id": "JQAduY-RWKyB"
      },
      "source": [
        "# Exercise 1: Processing Customers data (difficulty medium)\n",
        "\n",
        "The sample customer data in 'customers.csv' file has just 5 columns: CustomerId, First Name, Last Name, City and State\n",
        "\n",
        "![Data sample](https://raw.githubusercontent.com/anyoneai/notebooks/main/customers_and_orders/images/customers.png)\n",
        "\n",
        "We strongly recommend that you complete from the [Prep Course: Intro to Python](https://colab.research.google.com/github/anyoneai/notebooks/blob/main/python3_crash_course.ipynb) the following section:\n",
        "- Section 7: File I/O (to understand how to read CSV file)\n",
        "- Section 6: For Loop (to navigate the contents of the CSV file)\n",
        "- Section 5: Tuples, Lists, and Dictionaries (to manipulate the data of the CSV file)\n",
        "\n",
        "With this, we hope you can complete this exercise successfully. Although if you want to solve this with libraries or any other way, you are welcome to do it your way.\n",
        "\n",
        "*Hint:* We advise you to take a look at the data before you start.\n",
        "**if you want to manually take a look at the data before you start, please see the content of the data [here](https://github.com/anyoneai/notebooks/blob/main/customers_and_orders/data/customers.csv).\n",
        "\n",
        "*Hint*: There are many ways to do this exercise you can do your own, although here's some help. You can solve this exercise reading and parsing CSV files, structuring data into dictionaries, and using for loops to navigate the contents\n",
        "\n",
        "*Hint*: Also, keep in mind that data might not be clean and you might have to figure out how to deal with that data from the code, without having to modify the data source.\n",
        "\n",
        "Below are the 5 questions you'll have to answer to pass the evaluation:"
      ]
    },
    {
      "cell_type": "markdown",
      "metadata": {
        "id": "kJq7S8sBfbOW"
      },
      "source": [
        "**Question 1:** How many customers are in the file?\n",
        "(as help, we have added some comments and starter code to help you structure the solution)"
      ]
    },
    {
      "cell_type": "code",
      "execution_count": 11,
      "metadata": {
        "colab": {
          "base_uri": "https://localhost:8080/"
        },
        "id": "oMnUFBFb2RUb",
        "outputId": "ad382fa2-5b7b-4f00-b1d8-bfe663e31a1b"
      },
      "outputs": [
        {
          "output_type": "stream",
          "name": "stdout",
          "text": [
            "./sample_data/customers.csv\n",
            "Total number of customers: 603\n",
            "All done!\n"
          ]
        }
      ],
      "source": [
        "from os.path import exists\n",
        "import csv\n",
        "\n",
        "# check if file can be found and open the file\n",
        "datafile = \"./sample_data/customers.csv\"\n",
        "if not exists(datafile):\n",
        "  raise SystemExit(\"You should run the first code cell and download the dataset files!\")\n",
        "\n",
        "# customers file is in the sample_data folder and can be opened.\n",
        "# Using csv reader is one way of dealing with the file\n",
        "# but it's up to you how you want to proceed\n",
        "\n",
        "customer_count = 0\n",
        "with open(datafile, 'r') as fl:\n",
        "  csvreader = csv.reader(fl, delimiter=',')\n",
        "\n",
        "  # loop through the rows and count etc. THE REST IS UP TO YOU!\n",
        "  for row in csvreader:\n",
        "    customer_count += 1\n",
        "\n",
        "print(f\"Total number of customers: {customer_count}\")\n",
        "print(\"All done!\")"
      ]
    },
    {
      "cell_type": "markdown",
      "metadata": {
        "id": "uffBnNgz_570"
      },
      "source": [
        "**Question 2:** In how many different states do the customers live in?"
      ]
    },
    {
      "cell_type": "code",
      "execution_count": 14,
      "metadata": {
        "id": "Bi_yid0sMe3-",
        "colab": {
          "base_uri": "https://localhost:8080/"
        },
        "outputId": "6d473720-0721-4664-c9fe-be63e30fab92"
      },
      "outputs": [
        {
          "output_type": "stream",
          "name": "stdout",
          "text": [
            "Total number of unique states: 16\n",
            "All done!\n"
          ]
        }
      ],
      "source": [
        "# open file and init vars\n",
        "# evaluate the contents of the file\n",
        "from os.path import exists\n",
        "import csv\n",
        "\n",
        "# check if file can be found and open the file\n",
        "datafile = \"./sample_data/customers.csv\"\n",
        "if not exists(datafile):\n",
        "  raise SystemExit(\"You should run the first code cell and download the dataset files!\")\n",
        "\n",
        "states = set()\n",
        "with open(datafile, 'r') as fl:\n",
        "  csvreader = csv.reader(fl, delimiter=',')\n",
        "\n",
        "  state_column_index = 4 # Column index for the state\n",
        "\n",
        "  for row in csvreader:\n",
        "        if len(row) > state_column_index:\n",
        "            state = row[state_column_index].strip()  # Remove any extra whitespace\n",
        "            if state:  # Only add non-empty states\n",
        "                states.add(state)\n",
        "\n",
        "# Total number of unique states\n",
        "print(f\"Total number of unique states: {len(states)}\")\n",
        "\n",
        "print(\"All done!\")\n"
      ]
    },
    {
      "cell_type": "markdown",
      "metadata": {
        "id": "DC59SZYiMfNY"
      },
      "source": [
        "**Question 3** What is the state with most customers?"
      ]
    },
    {
      "cell_type": "code",
      "execution_count": 18,
      "metadata": {
        "id": "tfGU3w-OMhA9",
        "colab": {
          "base_uri": "https://localhost:8080/"
        },
        "outputId": "0a7ab667-0523-4546-a1d0-ca0aef516d93"
      },
      "outputs": [
        {
          "output_type": "stream",
          "name": "stdout",
          "text": [
            "State with the most customers: CA with 567 customers.\n",
            "All done!\n"
          ]
        }
      ],
      "source": [
        "from os.path import exists\n",
        "import csv\n",
        "\n",
        "# Check if file can be found and open the file\n",
        "datafile = \"./sample_data/customers.csv\"\n",
        "if not exists(datafile):\n",
        "    raise SystemExit(\"You should run the first code cell and download the dataset files!\")\n",
        "\n",
        "# Initialize a dictionary to store state counts\n",
        "state_counts = {}\n",
        "\n",
        "with open(datafile, 'r') as fl:\n",
        "    csvreader = csv.reader(fl, delimiter=',')\n",
        "\n",
        "    state_column_index = 4 # Column index for the state\n",
        "\n",
        "    for row in csvreader:\n",
        "        if len(row) > state_column_index:\n",
        "          state = row[state_column_index].strip() # Remove extra whitespace\n",
        "          if state:\n",
        "            if state in state_counts:\n",
        "              state_counts[state] += 1\n",
        "            else:\n",
        "              state_counts[state] = 1\n",
        "\n",
        "#Find state with the most customers\n",
        "most_customers_state = max(state_counts, key=state_counts.get)\n",
        "most_customers_count = state_counts[most_customers_state]\n",
        "\n",
        "print(f\"State with the most customers: {most_customers_state} with {most_customers_count} customers.\")\n",
        "print(\"All done!\")\n"
      ]
    },
    {
      "cell_type": "markdown",
      "metadata": {
        "id": "7mcM6cUAMhLB"
      },
      "source": [
        "**Question 4** What is the state with the least customers?"
      ]
    },
    {
      "cell_type": "code",
      "execution_count": 20,
      "metadata": {
        "id": "8T0Ka2RqMi3P",
        "colab": {
          "base_uri": "https://localhost:8080/"
        },
        "outputId": "a16e0bca-08c6-4bef-e9f0-d8119def5699"
      },
      "outputs": [
        {
          "output_type": "stream",
          "name": "stdout",
          "text": [
            "State with the least customers: State with 1 customers.\n",
            "All done!\n"
          ]
        }
      ],
      "source": [
        "from os.path import exists\n",
        "import csv\n",
        "\n",
        "# Check if file can be found and open the file\n",
        "datafile = \"./sample_data/customers.csv\"\n",
        "if not exists(datafile):\n",
        "    raise SystemExit(\"You should run the first code cell and download the dataset files!\")\n",
        "\n",
        "# Initialize a dictionary to store state counts\n",
        "state_counts = {}\n",
        "\n",
        "with open(datafile, 'r') as fl:\n",
        "    csvreader = csv.reader(fl, delimiter=',')\n",
        "\n",
        "    state_column_index = 4 # Column index for the state\n",
        "\n",
        "    for row in csvreader:\n",
        "        if len(row) > state_column_index:\n",
        "          state = row[state_column_index].strip() # Remove extra whitespace\n",
        "          if state:\n",
        "            if state in state_counts:\n",
        "              state_counts[state] += 1\n",
        "            else:\n",
        "              state_counts[state] = 1\n",
        "\n",
        "#Find state with the most customers\n",
        "least_customers_state = min(state_counts, key=state_counts.get)\n",
        "least_customers_count = state_counts[least_customers_state]\n",
        "\n",
        "print(f\"State with the least customers: {least_customers_state} with {least_customers_count} customers.\")\n",
        "print(\"All done!\")"
      ]
    },
    {
      "cell_type": "markdown",
      "metadata": {
        "id": "h6fIy7hXHF6A"
      },
      "source": [
        "**Question 5:** What is the most common last name?"
      ]
    },
    {
      "cell_type": "code",
      "execution_count": 27,
      "metadata": {
        "id": "k8M1DmA75Km7",
        "colab": {
          "base_uri": "https://localhost:8080/"
        },
        "outputId": "db11b58b-6ffa-4ec5-9c62-db9163766858"
      },
      "outputs": [
        {
          "output_type": "stream",
          "name": "stdout",
          "text": [
            "The most common last name is 'Smith' with 8 occurrences.\n",
            "All done!\n"
          ]
        }
      ],
      "source": [
        "from os.path import exists\n",
        "import csv\n",
        "\n",
        "# Check if file can be found and open the file\n",
        "datafile = \"./sample_data/customers.csv\"\n",
        "if not exists(datafile):\n",
        "    raise SystemExit(\"You should run the first code cell and download the dataset files!\")\n",
        "\n",
        "# Initialize a dictionary to store state counts\n",
        "last_name_counts = {}\n",
        "\n",
        "with open(datafile, 'r') as fl:\n",
        "    csvreader = csv.reader(fl, delimiter=',')\n",
        "\n",
        "    last_name_column_index = 2 # Column index for the state\n",
        "\n",
        "    for row in csvreader:\n",
        "        if len(row) > last_name_column_index:\n",
        "          last_name = row[last_name_column_index].strip() # Remove extra whitespace\n",
        "          if last_name:\n",
        "            if last_name in last_name_counts:\n",
        "              last_name_counts[last_name] += 1\n",
        "            else:\n",
        "              last_name_counts[last_name] = 1\n",
        "\n",
        "#Find state with the most customers\n",
        "most_common_last_name = max(last_name_counts, key=last_name_counts.get)\n",
        "most_common_last_name_count = last_name_counts[most_common_last_name]\n",
        "\n",
        "print(f\"The most common last name is '{most_common_last_name}' with {most_common_last_name_count} occurrences.\")\n",
        "print(\"All done!\")"
      ]
    },
    {
      "cell_type": "markdown",
      "metadata": {
        "id": "YPRma1t9NoFk"
      },
      "source": [
        "# Exercise 2: Processing Orders data (difficulty high)\n",
        "\n",
        "The second sample files contains orders placed by customers from the first file. Be careful, this file has many rows and you most likely should not print the contents of the whole file.\n",
        "\n",
        "The file contains the following columns: CustomerID, OrderID, Date, OrderTotal, ProductName, Price\n",
        "\n",
        "![Data sample](https://raw.githubusercontent.com/anyoneai/notebooks/main/customers_and_orders/images/orders.png)\n",
        "\n",
        "*Hint:* We advise you to take a look at the data before you start.\n",
        "**if you want to manually take a look at the data before you start, please see the content of the data [here](https://raw.githubusercontent.com/anyoneai/notebooks/main/customers_and_orders/data/orders.csv).\n",
        "\n",
        "*Hint*: There are many ways to do this exercise you can do your own, although here's some help. You can solve this exercise reading and parsing CSV files, structuring data into dictionaries, and using for loops to navigate the contents\n",
        "\n",
        "*Hint*: Also, the data is not clean and you will have to figure out how to deal with that data from the code, without having to modify the data source.\n",
        "\n",
        "\n",
        "\n",
        "**Question #1:** How many unique orders are in the orders.csv file?\n",
        "\n",
        "**Question #2:** What is the average number of items per order (rounded to two decimal places)?\n",
        "\n",
        "**Question #3:** What is the highest number of items per order?\n",
        "\n",
        "**Question #4:** What is the number of orders placed in October 2021?\n",
        "\n",
        "**Question #5:** Which customer spent the most amount of money in 2021?\n",
        "\n",
        "**Question #6:** Historically, what is the best month for sales?\n",
        "\n",
        "Once you get your answers, remember to go back to the course and introduce them in the multiple choice quiz"
      ]
    },
    {
      "cell_type": "code",
      "execution_count": 28,
      "metadata": {
        "id": "8ipJTrfs5QVM",
        "colab": {
          "base_uri": "https://localhost:8080/",
          "height": 221
        },
        "outputId": "98f3e1af-dbed-4937-933a-bbcf2d139bfe"
      },
      "outputs": [
        {
          "output_type": "error",
          "ename": "FileNotFoundError",
          "evalue": "[Errno 2] No such file or directory: 'orders.csv'",
          "traceback": [
            "\u001b[0;31m---------------------------------------------------------------------------\u001b[0m",
            "\u001b[0;31mFileNotFoundError\u001b[0m                         Traceback (most recent call last)",
            "\u001b[0;32m<ipython-input-28-3fb33b3c71f3>\u001b[0m in \u001b[0;36m<cell line: 0>\u001b[0;34m()\u001b[0m\n\u001b[1;32m      5\u001b[0m \u001b[0;31m# Process the orders.csv data\u001b[0m\u001b[0;34m\u001b[0m\u001b[0;34m\u001b[0m\u001b[0m\n\u001b[1;32m      6\u001b[0m \u001b[0morders\u001b[0m \u001b[0;34m=\u001b[0m \u001b[0;34m[\u001b[0m\u001b[0;34m]\u001b[0m\u001b[0;34m\u001b[0m\u001b[0;34m\u001b[0m\u001b[0m\n\u001b[0;32m----> 7\u001b[0;31m \u001b[0;32mwith\u001b[0m \u001b[0mopen\u001b[0m\u001b[0;34m(\u001b[0m\u001b[0;34m'orders.csv'\u001b[0m\u001b[0;34m,\u001b[0m \u001b[0;34m'r'\u001b[0m\u001b[0;34m)\u001b[0m \u001b[0;32mas\u001b[0m \u001b[0mfile\u001b[0m\u001b[0;34m:\u001b[0m\u001b[0;34m\u001b[0m\u001b[0;34m\u001b[0m\u001b[0m\n\u001b[0m\u001b[1;32m      8\u001b[0m     \u001b[0mcsv_reader\u001b[0m \u001b[0;34m=\u001b[0m \u001b[0mcsv\u001b[0m\u001b[0;34m.\u001b[0m\u001b[0mDictReader\u001b[0m\u001b[0;34m(\u001b[0m\u001b[0mfile\u001b[0m\u001b[0;34m)\u001b[0m\u001b[0;34m\u001b[0m\u001b[0;34m\u001b[0m\u001b[0m\n\u001b[1;32m      9\u001b[0m     \u001b[0;32mfor\u001b[0m \u001b[0mrow\u001b[0m \u001b[0;32min\u001b[0m \u001b[0mcsv_reader\u001b[0m\u001b[0;34m:\u001b[0m\u001b[0;34m\u001b[0m\u001b[0;34m\u001b[0m\u001b[0m\n",
            "\u001b[0;31mFileNotFoundError\u001b[0m: [Errno 2] No such file or directory: 'orders.csv'"
          ]
        }
      ],
      "source": [
        "import csv\n",
        "from collections import defaultdict\n",
        "from datetime import datetime\n",
        "\n",
        "# Process the orders.csv data\n",
        "orders = []\n",
        "with open('orders.csv', 'r') as file:\n",
        "    csv_reader = csv.DictReader(file)\n",
        "    for row in csv_reader:\n",
        "        # Convert numeric fields to appropriate types\n",
        "        row['OrderTotal'] = float(row['OrderTotal'])\n",
        "        row['Price'] = float(row['Price'])\n",
        "        orders.append(row)\n",
        "\n",
        "# Question 1: How many unique orders are in the orders.csv file?\n",
        "unique_orders = set(order['OrderID'] for order in orders)\n",
        "q1_answer = len(unique_orders)\n",
        "print(f\"Q1: There are {q1_answer} unique orders in the orders.csv file.\")\n",
        "\n",
        "# Question 2: What is the average number of items per order (rounded to two decimal places)?\n",
        "items_per_order = defaultdict(int)\n",
        "for order in orders:\n",
        "    items_per_order[order['OrderID']] += 1\n",
        "\n",
        "avg_items = sum(items_per_order.values()) / len(items_per_order)\n",
        "q2_answer = round(avg_items, 2)\n",
        "print(f\"Q2: The average number of items per order is {q2_answer}.\")\n",
        "\n",
        "# Question 3: What is the highest number of items per order?\n",
        "q3_answer = max(items_per_order.values())\n",
        "print(f\"Q3: The highest number of items per order is {q3_answer}.\")\n",
        "\n",
        "# Question 4: What is the number of orders placed in October 2021?\n",
        "october_2021_orders = set()\n",
        "for order in orders:\n",
        "    date = datetime.strptime(order['Date'], '%Y-%m-%d %H:%M:%S.%f')\n",
        "    if date.year == 2021 and date.month == 10:\n",
        "        october_2021_orders.add(order['OrderID'])\n",
        "\n",
        "q4_answer = len(october_2021_orders)\n",
        "print(f\"Q4: The number of orders placed in October 2021 is {q4_answer}.\")\n",
        "\n",
        "# Question 5: Which customer spent the most amount of money in 2021?\n",
        "# Need to be careful not to double-count OrderTotal for orders with multiple items\n",
        "customer_spending_2021 = defaultdict(float)\n",
        "processed_orders = set()\n",
        "\n",
        "for order in orders:\n",
        "    date = datetime.strptime(order['Date'], '%Y-%m-%d %H:%M:%S.%f')\n",
        "    if date.year == 2021 and order['OrderID'] not in processed_orders:\n",
        "        customer_spending_2021[order['CustomerID']] += order['OrderTotal']\n",
        "        processed_orders.add(order['OrderID'])\n",
        "\n",
        "max_customer = max(customer_spending_2021.items(), key=lambda x: x[1])\n",
        "q5_answer = max_customer[0]\n",
        "print(f\"Q5: Customer {q5_answer} spent the most money in 2021 (${max_customer[1]:.2f}).\")\n",
        "\n",
        "# Question 6: Historically, what is the best month for sales?\n",
        "monthly_sales = defaultdict(float)\n",
        "processed_orders = set()\n",
        "\n",
        "for order in orders:\n",
        "    date = datetime.strptime(order['Date'], '%Y-%m-%d %H:%M:%S.%f')\n",
        "    month_key = date.month\n",
        "\n",
        "    if order['OrderID'] not in processed_orders:\n",
        "        monthly_sales[month_key] += order['OrderTotal']\n",
        "        processed_orders.add(order['OrderID'])\n",
        "\n",
        "best_month_number = max(monthly_sales.items(), key=lambda x: x[1])[0]\n",
        "month_names = {\n",
        "    1: 'January', 2: 'February', 3: 'March', 4: 'April', 5: 'May', 6: 'June',\n",
        "    7: 'July', 8: 'August', 9: 'September', 10: 'October', 11: 'November', 12: 'December'\n",
        "}\n",
        "q6_answer = month_names[best_month_number]\n",
        "print(f\"Q6: The best month for sales historically is {q6_answer}.\")\n",
        "\n",
        "# Print summary of answers\n",
        "print(\"\\nSummary of answers:\")\n",
        "print(f\"1. Number of unique orders: {q1_answer}\")\n",
        "print(f\"2. Average items per order: {q2_answer}\")\n",
        "print(f\"3. Highest items per order: {q3_answer}\")\n",
        "print(f\"4. Orders in October 2021: {q4_answer}\")\n",
        "print(f\"5. Customer with highest spending in 2021: {q5_answer}\")\n",
        "print(f\"6. Best month for sales: {q6_answer}\")"
      ]
    },
    {
      "cell_type": "markdown",
      "metadata": {
        "id": "ie0JW4FAk6Os"
      },
      "source": [
        "# Finished!\n",
        "\n",
        "Hope this was not too difficult and slicing and dicing the datasets was some fun. Now head on back to the course and provide the answers to the questions from this exercise."
      ]
    }
  ],
  "metadata": {
    "colab": {
      "name": "customers_and_orders.ipynb",
      "provenance": [],
      "include_colab_link": true
    },
    "kernelspec": {
      "display_name": "Python 3 (ipykernel)",
      "language": "python",
      "name": "python3"
    },
    "language_info": {
      "codemirror_mode": {
        "name": "ipython",
        "version": 3
      },
      "file_extension": ".py",
      "mimetype": "text/x-python",
      "name": "python",
      "nbconvert_exporter": "python",
      "pygments_lexer": "ipython3",
      "version": "3.9.9"
    }
  },
  "nbformat": 4,
  "nbformat_minor": 0
}