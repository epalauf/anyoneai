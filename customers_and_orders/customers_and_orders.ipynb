{
  "cells": [
    {
      "cell_type": "markdown",
      "metadata": {
        "id": "view-in-github",
        "colab_type": "text"
      },
      "source": [
        "<a href=\"https://colab.research.google.com/github/epalauf/anyoneai/blob/main/customers_and_orders/customers_and_orders.ipynb\" target=\"_parent\"><img src=\"https://colab.research.google.com/assets/colab-badge.svg\" alt=\"Open In Colab\"/></a>"
      ]
    },
    {
      "cell_type": "markdown",
      "metadata": {
        "id": "piiX_CRNFYUi"
      },
      "source": [
        "# Technical Challenge ! Custiomers and Orders - The lifeblood of any business!\n",
        "\n",
        "This notebook depends on two data files: customers.scv and orders.csv. These files are hosted in the cloud (or Github), so for simplicity, we are providing you with the code to download and save the two files in a folder called 'sample_data' which lives within this notebook session (not on your local computer nor Google Drive).\n",
        "\n",
        "![sample_data folder in notebook session](https://raw.githubusercontent.com/anyoneai/notebooks/main/customers_and_orders/images/sample_data_folder.png)\n",
        "\n",
        "Please execute the first code snippet before moving to the rest of the exercise as this code will import the data from the files for you to be able to execute the rest of the exercise.\n",
        "\n",
        "Remember as we said in the previous lecture, you have to save this notebook into your Google Drive by going to menu File/Save a Copy In Drive, or clicking in the button \"Copy to Drive\". This way, you will not lose any work you've done and the file will persist with your latest changes in your Google Drive. Also we recommend you to rename your .ipynb in your Google Drive, so you can easily find it in the future."
      ]
    },
    {
      "cell_type": "code",
      "execution_count": 2,
      "metadata": {
        "colab": {
          "base_uri": "https://localhost:8080/"
        },
        "id": "MWpVO242FQHC",
        "outputId": "6e86e055-54e3-447c-bbde-c60321c55756"
      },
      "outputs": [
        {
          "output_type": "stream",
          "name": "stdout",
          "text": [
            "Customers and orders CSV files have been added './sample_data'\n"
          ]
        }
      ],
      "source": [
        "import requests\n",
        "\n",
        "def import_data_files():\n",
        "  r = requests.get('https://raw.githubusercontent.com/anyoneai/notebooks/main/customers_and_orders/data/customers.csv')\n",
        "  with open('./sample_data/customers.csv', 'wb') as f:\n",
        "    f.write(r.content)\n",
        "\n",
        "  r = requests.get('https://raw.githubusercontent.com/anyoneai/notebooks/main/customers_and_orders/data/orders.csv')\n",
        "  with open('./sample_data/orders.csv', 'wb') as f:\n",
        "    f.write(r.content)\n",
        "\n",
        "import_data_files()\n",
        "print(\"Customers and orders CSV files have been added './sample_data'\")"
      ]
    },
    {
      "cell_type": "markdown",
      "metadata": {
        "id": "JQAduY-RWKyB"
      },
      "source": [
        "# Exercise 1: Processing Customers data (difficulty medium)\n",
        "\n",
        "The sample customer data in 'customers.csv' file has just 5 columns: CustomerId, First Name, Last Name, City and State\n",
        "\n",
        "![Data sample](https://raw.githubusercontent.com/anyoneai/notebooks/main/customers_and_orders/images/customers.png)\n",
        "\n",
        "We strongly recommend that you complete from the [Prep Course: Intro to Python](https://colab.research.google.com/github/anyoneai/notebooks/blob/main/python3_crash_course.ipynb) the following section:\n",
        "- Section 7: File I/O (to understand how to read CSV file)\n",
        "- Section 6: For Loop (to navigate the contents of the CSV file)\n",
        "- Section 5: Tuples, Lists, and Dictionaries (to manipulate the data of the CSV file)\n",
        "\n",
        "With this, we hope you can complete this exercise successfully. Although if you want to solve this with libraries or any other way, you are welcome to do it your way.\n",
        "\n",
        "*Hint:* We advise you to take a look at the data before you start.\n",
        "**if you want to manually take a look at the data before you start, please see the content of the data [here](https://github.com/anyoneai/notebooks/blob/main/customers_and_orders/data/customers.csv).\n",
        "\n",
        "*Hint*: There are many ways to do this exercise you can do your own, although here's some help. You can solve this exercise reading and parsing CSV files, structuring data into dictionaries, and using for loops to navigate the contents\n",
        "\n",
        "*Hint*: Also, keep in mind that data might not be clean and you might have to figure out how to deal with that data from the code, without having to modify the data source.\n",
        "\n",
        "Below are the 5 questions you'll have to answer to pass the evaluation:"
      ]
    },
    {
      "cell_type": "markdown",
      "metadata": {
        "id": "kJq7S8sBfbOW"
      },
      "source": [
        "**Question 1:** How many customers are in the file?\n",
        "(as help, we have added some comments and starter code to help you structure the solution)"
      ]
    },
    {
      "cell_type": "code",
      "execution_count": 3,
      "metadata": {
        "colab": {
          "base_uri": "https://localhost:8080/"
        },
        "id": "oMnUFBFb2RUb",
        "outputId": "339f962f-90bd-4cbc-c00d-35d1e7e5744c"
      },
      "outputs": [
        {
          "output_type": "stream",
          "name": "stdout",
          "text": [
            "Total number of customers: 603\n",
            "All done!\n"
          ]
        }
      ],
      "source": [
        "from os.path import exists\n",
        "import csv\n",
        "\n",
        "# check if file can be found and open the file\n",
        "datafile = \"./sample_data/customers.csv\"\n",
        "if not exists(datafile):\n",
        "  raise SystemExit(\"You should run the first code cell and download the dataset files!\")\n",
        "\n",
        "# customers file is in the sample_data folder and can be opened.\n",
        "# Using csv reader is one way of dealing with the file\n",
        "# but it's up to you how you want to proceed\n",
        "\n",
        "customer_count = 0\n",
        "with open(datafile, 'r') as fl:\n",
        "  csvreader = csv.reader(fl, delimiter=',')\n",
        "\n",
        "  # loop through the rows and count etc. THE REST IS UP TO YOU!\n",
        "  for row in csvreader:\n",
        "    customer_count += 1\n",
        "\n",
        "print(f\"Total number of customers: {customer_count}\")\n",
        "print(\"All done!\")"
      ]
    },
    {
      "cell_type": "markdown",
      "metadata": {
        "id": "uffBnNgz_570"
      },
      "source": [
        "**Question 2:** In how many different states do the customers live in?"
      ]
    },
    {
      "cell_type": "code",
      "execution_count": 4,
      "metadata": {
        "id": "Bi_yid0sMe3-",
        "colab": {
          "base_uri": "https://localhost:8080/"
        },
        "outputId": "f71111e5-3b19-48ac-9411-79fb3360601c"
      },
      "outputs": [
        {
          "output_type": "stream",
          "name": "stdout",
          "text": [
            "Total number of unique states: 16\n",
            "All done!\n"
          ]
        }
      ],
      "source": [
        "# open file and init vars\n",
        "# evaluate the contents of the file\n",
        "from os.path import exists\n",
        "import csv\n",
        "\n",
        "# check if file can be found and open the file\n",
        "datafile = \"./sample_data/customers.csv\"\n",
        "if not exists(datafile):\n",
        "  raise SystemExit(\"You should run the first code cell and download the dataset files!\")\n",
        "\n",
        "states = set()\n",
        "with open(datafile, 'r') as fl:\n",
        "  csvreader = csv.reader(fl, delimiter=',')\n",
        "\n",
        "  state_column_index = 4 # Column index for the state\n",
        "\n",
        "  for row in csvreader:\n",
        "        if len(row) > state_column_index:\n",
        "            state = row[state_column_index].strip()  # Remove any extra whitespace\n",
        "            if state:  # Only add non-empty states\n",
        "                states.add(state)\n",
        "\n",
        "# Total number of unique states\n",
        "print(f\"Total number of unique states: {len(states)}\")\n",
        "\n",
        "print(\"All done!\")"
      ]
    },
    {
      "cell_type": "markdown",
      "metadata": {
        "id": "DC59SZYiMfNY"
      },
      "source": [
        "**Question 3** What is the state with most customers?"
      ]
    },
    {
      "cell_type": "code",
      "execution_count": 5,
      "metadata": {
        "id": "tfGU3w-OMhA9",
        "colab": {
          "base_uri": "https://localhost:8080/"
        },
        "outputId": "d2ce318d-89ac-43e6-dfdc-40dc5104146c"
      },
      "outputs": [
        {
          "output_type": "stream",
          "name": "stdout",
          "text": [
            "State with the most customers: CA with 567 customers.\n",
            "All done!\n"
          ]
        }
      ],
      "source": [
        "from os.path import exists\n",
        "import csv\n",
        "\n",
        "# Check if file can be found and open the file\n",
        "datafile = \"./sample_data/customers.csv\"\n",
        "if not exists(datafile):\n",
        "    raise SystemExit(\"You should run the first code cell and download the dataset files!\")\n",
        "\n",
        "# Initialize a dictionary to store state counts\n",
        "state_counts = {}\n",
        "\n",
        "with open(datafile, 'r') as fl:\n",
        "    csvreader = csv.reader(fl, delimiter=',')\n",
        "\n",
        "    state_column_index = 4 # Column index for the state\n",
        "\n",
        "    for row in csvreader:\n",
        "        if len(row) > state_column_index:\n",
        "          state = row[state_column_index].strip() # Remove extra whitespace\n",
        "          if state:\n",
        "            if state in state_counts:\n",
        "              state_counts[state] += 1\n",
        "            else:\n",
        "              state_counts[state] = 1\n",
        "\n",
        "#Find state with the most customers\n",
        "most_customers_state = max(state_counts, key=state_counts.get)\n",
        "most_customers_count = state_counts[most_customers_state]\n",
        "\n",
        "print(f\"State with the most customers: {most_customers_state} with {most_customers_count} customers.\")\n",
        "print(\"All done!\")"
      ]
    },
    {
      "cell_type": "markdown",
      "metadata": {
        "id": "7mcM6cUAMhLB"
      },
      "source": [
        "**Question 4** What is the state with the least customers?"
      ]
    },
    {
      "cell_type": "code",
      "execution_count": 16,
      "metadata": {
        "id": "8T0Ka2RqMi3P",
        "colab": {
          "base_uri": "https://localhost:8080/"
        },
        "outputId": "f6a1084b-465b-4874-ef74-54b677b46f74"
      },
      "outputs": [
        {
          "output_type": "stream",
          "name": "stdout",
          "text": [
            "State with the least customers: WA with 1 customers.\n",
            "All done!\n"
          ]
        }
      ],
      "source": [
        "from os.path import exists\n",
        "import csv\n",
        "\n",
        "# Check if file can be found and open the file\n",
        "datafile = \"./sample_data/customers.csv\"\n",
        "if not exists(datafile):\n",
        "    raise SystemExit(\"You should run the first code cell and download the dataset files!\")\n",
        "\n",
        "# Initialize a dictionary to store state counts\n",
        "state_counts = {}\n",
        "\n",
        "with open(datafile, 'r') as fl:\n",
        "    csvreader = csv.reader(fl, delimiter=',')\n",
        "\n",
        "    # Skip the header row\n",
        "    next(csvreader)\n",
        "\n",
        "    state_column_index = 4  # Column index for the state (zero-based indexing)\n",
        "\n",
        "    for row in csvreader:\n",
        "        if len(row) > state_column_index:\n",
        "            state = row[state_column_index].strip()  # Remove extra whitespace\n",
        "            if state:\n",
        "                if state in state_counts:\n",
        "                    state_counts[state] += 1\n",
        "                else:\n",
        "                    state_counts[state] = 1\n",
        "\n",
        "# Find state with the least customers\n",
        "least_customers_state = min(state_counts, key=state_counts.get)\n",
        "least_customers_count = state_counts[least_customers_state]\n",
        "\n",
        "print(f\"State with the least customers: {least_customers_state} with {least_customers_count} customers.\")\n",
        "print(\"All done!\")"
      ]
    },
    {
      "cell_type": "markdown",
      "metadata": {
        "id": "h6fIy7hXHF6A"
      },
      "source": [
        "**Question 5:** What is the most common last name?"
      ]
    },
    {
      "cell_type": "code",
      "execution_count": 17,
      "metadata": {
        "id": "k8M1DmA75Km7",
        "colab": {
          "base_uri": "https://localhost:8080/"
        },
        "outputId": "71120b6e-b43a-4b4e-c21b-31eb79e055de"
      },
      "outputs": [
        {
          "output_type": "stream",
          "name": "stdout",
          "text": [
            "The most common last name is 'Smith' with 8 occurrences.\n",
            "All done!\n"
          ]
        }
      ],
      "source": [
        "from os.path import exists\n",
        "import csv\n",
        "\n",
        "# Check if file can be found and open the file\n",
        "datafile = \"./sample_data/customers.csv\"\n",
        "if not exists(datafile):\n",
        "    raise SystemExit(\"You should run the first code cell and download the dataset files!\")\n",
        "\n",
        "# Initialize a dictionary to store state counts\n",
        "last_name_counts = {}\n",
        "\n",
        "with open(datafile, 'r') as fl:\n",
        "    csvreader = csv.reader(fl, delimiter=',')\n",
        "\n",
        "    last_name_column_index = 2 # Column index for the state\n",
        "\n",
        "    for row in csvreader:\n",
        "        if len(row) > last_name_column_index:\n",
        "          last_name = row[last_name_column_index].strip() # Remove extra whitespace\n",
        "          if last_name:\n",
        "            if last_name in last_name_counts:\n",
        "              last_name_counts[last_name] += 1\n",
        "            else:\n",
        "              last_name_counts[last_name] = 1\n",
        "\n",
        "#Find state with the most customers\n",
        "most_common_last_name = max(last_name_counts, key=last_name_counts.get)\n",
        "most_common_last_name_count = last_name_counts[most_common_last_name]\n",
        "\n",
        "print(f\"The most common last name is '{most_common_last_name}' with {most_common_last_name_count} occurrences.\")\n",
        "print(\"All done!\")"
      ]
    },
    {
      "cell_type": "markdown",
      "metadata": {
        "id": "YPRma1t9NoFk"
      },
      "source": [
        "# Exercise 2: Processing Orders data (difficulty high)\n",
        "\n",
        "The second sample files contains orders placed by customers from the first file. Be careful, this file has many rows and you most likely should not print the contents of the whole file.\n",
        "\n",
        "The file contains the following columns: CustomerID, OrderID, Date, OrderTotal, ProductName, Price\n",
        "\n",
        "![Data sample](https://raw.githubusercontent.com/anyoneai/notebooks/main/customers_and_orders/images/orders.png)\n",
        "\n",
        "*Hint:* We advise you to take a look at the data before you start.\n",
        "**if you want to manually take a look at the data before you start, please see the content of the data [here](https://raw.githubusercontent.com/anyoneai/notebooks/main/customers_and_orders/data/orders.csv).\n",
        "\n",
        "*Hint*: There are many ways to do this exercise you can do your own, although here's some help. You can solve this exercise reading and parsing CSV files, structuring data into dictionaries, and using for loops to navigate the contents\n",
        "\n",
        "*Hint*: Also, the data is not clean and you will have to figure out how to deal with that data from the code, without having to modify the data source.\n",
        "\n",
        "\n",
        "\n",
        "**Question #1:** How many unique orders are in the orders.csv file?\n",
        "\n",
        "**Question #2:** What is the average number of items per order (rounded to two decimal places)?\n",
        "\n",
        "**Question #3:** What is the highest number of items per order?\n",
        "\n",
        "**Question #4:** What is the number of orders placed in October 2021?\n",
        "\n",
        "**Question #5:** Which customer spent the most amount of money in 2021?\n",
        "\n",
        "**Question #6:** Historically, what is the best month for sales?\n",
        "\n",
        "Once you get your answers, remember to go back to the course and introduce them in the multiple choice quiz"
      ]
    },
    {
      "cell_type": "code",
      "execution_count": 20,
      "metadata": {
        "id": "8ipJTrfs5QVM",
        "colab": {
          "base_uri": "https://localhost:8080/"
        },
        "outputId": "4e67510e-7de1-4097-fe60-149121a9f453"
      },
      "outputs": [
        {
          "output_type": "stream",
          "name": "stdout",
          "text": [
            "Question 1: Number of unique orders: 16672\n",
            "Question 2: Average number of items per order: 1.76\n",
            "Question 3: Highest number of items per order: 35\n",
            "Question 4: Number of orders placed in October 2021: 266\n",
            "Question 5: Customer who spent the most in 2021: 5172443 ($7675.00)\n",
            "Question 6: Best month for sales: 1/2022 ($78605.00)\n"
          ]
        }
      ],
      "source": [
        "from os.path import exists\n",
        "import csv\n",
        "from collections import defaultdict\n",
        "from datetime import datetime\n",
        "\n",
        "# Check if the file exists\n",
        "datafile = \"./sample_data/orders.csv\"\n",
        "if not exists(datafile):\n",
        "    raise SystemExit(\"You should run the first code cell and download the dataset files!\")\n",
        "\n",
        "# Initialize variables\n",
        "unique_orders = set()  # To store unique OrderIDs\n",
        "order_items = defaultdict(list)  # To store items per order\n",
        "order_totals = defaultdict(float)  # To store total amount per order\n",
        "customer_spending_2021 = defaultdict(float)  # To store total spending per customer in 2021\n",
        "monthly_sales = defaultdict(float)  # To store total sales per month\n",
        "\n",
        "# Open and process the orders.csv file\n",
        "with open(datafile, 'r') as fl:\n",
        "    csvreader = csv.reader(fl, delimiter=',')\n",
        "    next(csvreader)  # Skip the header row\n",
        "\n",
        "    for row in csvreader:\n",
        "        # Extract relevant fields\n",
        "        customer_id = row[0]\n",
        "        order_id = row[1]\n",
        "        date = row[2]\n",
        "        order_total = float(row[3]) if row[3] else 0.0\n",
        "        product_name = row[4]\n",
        "        price = float(row[5]) if row[5] else 0.0\n",
        "\n",
        "        # Question 1: Count unique orders\n",
        "        unique_orders.add(order_id)\n",
        "\n",
        "        # Question 2 & 3: Track items per order\n",
        "        order_items[order_id].append(product_name)\n",
        "\n",
        "        # Question 4: Track orders in October 2021\n",
        "        if date.strip():  # Skip rows with empty date fields\n",
        "            try:\n",
        "                order_date = datetime.strptime(date, \"%Y-%m-%d %H:%M:%S.%f\")\n",
        "                if order_date.year == 2021 and order_date.month == 10:\n",
        "                    order_totals[order_id] += order_total\n",
        "            except ValueError:\n",
        "                # Handle cases where the date format is invalid\n",
        "                print(f\"Skipping invalid date: {date}\")\n",
        "                continue\n",
        "\n",
        "        # Question 5: Track customer spending in 2021\n",
        "        if date.strip():  # Skip rows with empty date fields\n",
        "            try:\n",
        "                order_date = datetime.strptime(date, \"%Y-%m-%d %H:%M:%S.%f\")\n",
        "                if order_date.year == 2021:\n",
        "                    customer_spending_2021[customer_id] += price\n",
        "            except ValueError:\n",
        "                # Handle cases where the date format is invalid\n",
        "                print(f\"Skipping invalid date: {date}\")\n",
        "                continue\n",
        "\n",
        "        # Question 6: Track monthly sales\n",
        "        if date.strip():  # Skip rows with empty date fields\n",
        "            try:\n",
        "                order_date = datetime.strptime(date, \"%Y-%m-%d %H:%M:%S.%f\")\n",
        "                month_key = (order_date.year, order_date.month)\n",
        "                monthly_sales[month_key] += price\n",
        "            except ValueError:\n",
        "                # Handle cases where the date format is invalid\n",
        "                print(f\"Skipping invalid date: {date}\")\n",
        "                continue\n",
        "\n",
        "# Question 1: How many unique orders are in the orders.csv file?\n",
        "unique_order_count = len(unique_orders)\n",
        "print(f\"Question 1: Number of unique orders: {unique_order_count}\")\n",
        "\n",
        "# Question 2: What is the average number of items per order?\n",
        "total_items = sum(len(items) for items in order_items.values())\n",
        "average_items_per_order = round(total_items / unique_order_count, 2)\n",
        "print(f\"Question 2: Average number of items per order: {average_items_per_order}\")\n",
        "\n",
        "# Question 3: What is the highest number of items per order?\n",
        "max_items_per_order = max(len(items) for items in order_items.values())\n",
        "print(f\"Question 3: Highest number of items per order: {max_items_per_order}\")\n",
        "\n",
        "# Question 4: What is the number of orders placed in October 2021?\n",
        "october_orders = sum(1 for order_id in order_totals if order_totals[order_id] > 0)\n",
        "print(f\"Question 4: Number of orders placed in October 2021: {october_orders}\")\n",
        "\n",
        "# Question 5: Which customer spent the most amount of money in 2021?\n",
        "max_spending_customer = max(customer_spending_2021, key=customer_spending_2021.get)\n",
        "max_spending_amount = customer_spending_2021[max_spending_customer]\n",
        "print(f\"Question 5: Customer who spent the most in 2021: {max_spending_customer} (${max_spending_amount:.2f})\")\n",
        "\n",
        "# Question 6: Historically, what is the best month for sales?\n",
        "best_month = max(monthly_sales, key=monthly_sales.get)\n",
        "best_month_sales = monthly_sales[best_month]\n",
        "print(f\"Question 6: Best month for sales: {best_month[1]}/{best_month[0]} (${best_month_sales:.2f})\")"
      ]
    },
    {
      "cell_type": "markdown",
      "metadata": {
        "id": "ie0JW4FAk6Os"
      },
      "source": [
        "# Finished!\n",
        "\n",
        "Hope this was not too difficult and slicing and dicing the datasets was some fun. Now head on back to the course and provide the answers to the questions from this exercise."
      ]
    }
  ],
  "metadata": {
    "colab": {
      "name": "customers_and_orders.ipynb",
      "provenance": [],
      "include_colab_link": true
    },
    "kernelspec": {
      "display_name": "Python 3 (ipykernel)",
      "language": "python",
      "name": "python3"
    },
    "language_info": {
      "codemirror_mode": {
        "name": "ipython",
        "version": 3
      },
      "file_extension": ".py",
      "mimetype": "text/x-python",
      "name": "python",
      "nbconvert_exporter": "python",
      "pygments_lexer": "ipython3",
      "version": "3.9.9"
    }
  },
  "nbformat": 4,
  "nbformat_minor": 0
}